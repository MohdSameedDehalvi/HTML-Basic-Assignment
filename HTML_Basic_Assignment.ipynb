{
  "nbformat": 4,
  "nbformat_minor": 0,
  "metadata": {
    "colab": {
      "provenance": []
    },
    "kernelspec": {
      "name": "python3",
      "display_name": "Python 3"
    },
    "language_info": {
      "name": "python"
    }
  },
  "cells": [
    {
      "cell_type": "markdown",
      "source": [
        "# HTML Basic Assignment\n"
      ],
      "metadata": {
        "id": "t-KcoJy-sxXg"
      }
    },
    {
      "cell_type": "markdown",
      "source": [
        "Q1. Explain the basic structure of an HTML page. Why is it important to follow this structure ?\n",
        "- **Doctype** :- declare the html versiom. it is help to browser for rendering.\n",
        "\n",
        "*     **html** :- the root element of the html page. it wrap the entire content.\n",
        "*  **head** :- Contain meta information (meta INformation means they not display to the user).\n",
        "* **tittle** :- Set the page tittle Show on the browser tab.\n",
        "* **body** :- \tContains the visible content shown to users (text, images, links, etc)."
      ],
      "metadata": {
        "id": "bvw9TTsat1tG"
      }
    },
    {
      "cell_type": "markdown",
      "source": [
        "Q2. You’re building a small personal profile page. Which HTML tags will you\n",
        "use to highlight your name as a heading, describe yourself in a paragraph, and\n",
        "emphasize a key skill?\n",
        "- To build a small personal profile page with the element you have described, you can use the following html tags\n",
        " * **h1 tag** is used for highlight name.\n",
        " * **p tag**  is used for described myself.\n",
        " * **em tag** is used for emphasized my skills."
      ],
      "metadata": {
        "id": "T1wckMyYzEPV"
      }
    },
    {
      "cell_type": "code",
      "source": [
        "\"\"\"Q3 : Look at the code below. Can you find and fix the mistake?\n",
        "<!-- This is an HTML comment\n",
        "<h1>Welcome to my website</h1> \"\"\"\n",
        "# answer below\n",
        "\n",
        "<!--this is an HTML comment-->\n",
        "<h1>Welcome to my website</h1>\n"
      ],
      "metadata": {
        "id": "gOF95NPf1rq9"
      },
      "execution_count": null,
      "outputs": []
    },
    {
      "cell_type": "code",
      "source": [
        "\"\"\" Q4. You’re creating a form that asks the user to enter their name, select their\n",
        "country from a list, and click a button to submit. Write the HTML code for this. \"\"\"\n",
        "# answer below\n",
        "\n"
      ],
      "metadata": {
        "id": "nctmiENA4B2b"
      },
      "execution_count": null,
      "outputs": []
    },
    {
      "cell_type": "code",
      "source": [
        "\"\"\"\n",
        "Q5. Write short HTML code to show your favorite fruits in a bulleted list and\n",
        "your top 3 programming languages in a numbered list. \"\"\"\n",
        "\n",
        "\n",
        "answer here\n",
        "\n",
        "<!DOCTYPE html>\n",
        "\n",
        "<html>\n",
        "\n",
        "<head>\n",
        "  <title>User Form</title>\n",
        "</head>\n",
        "\n",
        "<body>\n",
        " <h2>favourite fruits</h2>\n",
        "    <ul>\n",
        "        <li>Apple</li>\n",
        "        <li>Mango</li>\n",
        "        <li>Grapwes</li>\n",
        "        <li>Banana</li>\n",
        "        <li>avacado</li>\n",
        "    </ul>\n",
        "    <h2>Three programming language</h2>\n",
        "    <ol>\n",
        "        <li>Java</li>\n",
        "        <li>javaScript</li>\n",
        "        <li>python</li>\n",
        "    </ol>\n",
        "</body>\n",
        "\n",
        "</html>\n",
        "\n"
      ],
      "metadata": {
        "id": "C9zkIdsI5UPE"
      },
      "execution_count": null,
      "outputs": []
    }
  ]
}